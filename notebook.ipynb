{
 "cells": [
  {
   "cell_type": "markdown",
   "id": "3bf45fb9c1a5da63",
   "metadata": {},
   "source": [
    "In dieser Arbeit werden Machine-Learning-Verfahren im Hinblick auf die Vorhersage von Diabetes untersucht. Ziel ist es, ausgewählte Klassifikationsalgorithmen – insbesondere logistische Regression, Support Vector Machines (SVM) und k-Nearest Neighbors (KNN) – auf ihre Leistungsfähigkeit zu vergleichen.\n",
    "\n",
    "Als Datengrundlage dient der öffentlich verfügbare Diabetes Prediction Dataset von Kaggle, der sowohl demografische Merkmale (z. B. Alter, Geschlecht, Raucherstatus) als auch medizinische Werte wie BMI, Blutzucker- und HbA1c-Werte enthält. Die Vorgehensweise umfasst die Datenvorverarbeitung, das Trainieren der Modelle in Python (Scikit-Learn) sowie die Bewertung mithilfe von Metriken wie Accuracy, Precision, Recall, F1-Score und ROC-Kurve. Die Ergebnisse werden abschließend vergleichend analysiert und visuell aufbereitet."
   ]
  },
  {
   "cell_type": "code",
   "id": "5ce49dc3e3b95e1e",
   "metadata": {
    "ExecuteTime": {
     "end_time": "2025-08-26T20:30:53.606252Z",
     "start_time": "2025-08-26T20:30:53.601802Z"
    }
   },
   "source": [
    "from sklearn.linear_model import LogisticRegression\n",
    "from sklearn.metrics import accuracy_score\n",
    "import pandas as pd\n",
    "import matplotlib.pyplot as plt\n",
    "import seaborn as sns\n",
    "from sklearn.model_selection import train_test_split\n",
    "from sklearn.svm import SVC\n",
    "from sklearn.preprocessing import StandardScaler\n",
    "import numpy as np"
   ],
   "outputs": [],
   "execution_count": 9
  },
  {
   "cell_type": "markdown",
   "id": "8a77807f92f26ee",
   "metadata": {},
   "source": [
    "<h4 style=\"font-size:18px\">Semesterabschließende schriftliche Ausarbeitung im Modul Machine Learning (Sommersemester 2025)</h4>\n",
    "<h1 style=\"font-size:32px\">Vergleich von Klassifikationsalgorithmen zur Vorhersage von Diabetes anhand des Kaggle-Datensatzes: Eine Analyse mit logistischer Regression, SVM und KNN</h1>\n",
    "<h2 style=\"font-size:18px\">von Julian Tomsa</h2>"
   ]
  },
  {
   "cell_type": "markdown",
   "id": "68136fc73e1ef4e1",
   "metadata": {},
   "source": [
    "## Inhaltsverzeichnis\n",
    "**1. Einleitung**\n",
    "   - 1.1 Diabetes Typ 1\n",
    "   - 1.2 Diabetes Typ 2\n",
    "   - 1.3 Zielsetzung\n",
    "\n",
    "**2. Datenbeschreibung**\n",
    "   - 2.1 Datensatzbeschreibung\n",
    "   - 2.2 Datenvorverarbeitung\n",
    "\n",
    "**3. Methodik**\n",
    "   - 3.1 Logistische Regression\n",
    "   - 3.2 Support Vector Machines (SVM)\n",
    "    - 3.3 k-Nearest Neighbors (KNN)"
   ]
  },
  {
   "cell_type": "markdown",
   "id": "4d36d57ed126bfcf",
   "metadata": {},
   "source": [
    "## 1. Einleitung\n",
    "\n",
    "   Diabetes oder auch umgangsprachlich die Zuckerkranheit (lateinisch: Diabetes mellitus\n",
    "   ist ein Überbegriff für eine Gruppe von Stoffwechselerkrankungen. Bei Diabetes ist der\n",
    "   Blutzuckerspiegel dauerhaft erhöht, was zu verschiedenen gesundheitlichen Problemen\n",
    "   führen kann. Die Krankheit kann in zwei Haupttypen unterteilt werden: Typ 1 und Typ 2.\n",
    "   Typ 1\n",
    "   ist eine Autoimmunerkrankung, bei der die Insulin produzierenden Zellen in der\n",
    "   Bauchspeicheldrüse zerstört werden. Typ 2 hingegen ist oft mit Übergewicht und\n",
    "   Bewegungsmangel\n",
    "   verbunden und kann durch Lebensstiländerungen und Medikamente behandelt werden.\n",
    "    Unbehandelt kann Diabetes zu schwerwiegenden Komplikationen wie Herzkrankheiten,\n",
    "    Nierenerkrankungen, Augenproblemen und Nervenschäden führen. Eine frühzeitige Diagnose\n",
    "   und Behandlung sind entscheidend, um die Krankheit zu kontrollieren und das Risiko von\n",
    "   Komplikationen zu verringern. Diabetes kann man durch eine Blutuntersuchung diagnostizieren,\n",
    "   bei der der Blutzuckerspiegel gemessen wird.\n",
    "\n",
    "---\n",
    "\n",
    "   <div style=\"text-align:center;\">\n",
    "  <img src=\"image/Regelkreis-Zucker.png\" alt=\"Regelkreis Zucker\" style=\"max-height:350px;\" />\n",
    "  <div>Quelle: https://praxis-beylich.de/wp-content/uploads/2018/02/Regelkreis-Zucker.png</div>\n",
    "</div>\n",
    "\n",
    "---\n",
    "\n",
    "### 1.1 Diabetes Typ 1\n",
    "   Die Ursache des Typ 1 Diabetes ist ein absoluter Mangel an Insulin, ein Hormon, das für die Regulierung des Blutzuckerspiegels verantwortlich ist. Weshalb dieser Diabetestyp auch\n",
    "   insulinabhängiger Diabetes mellitus heißt. Er wird durch das absolute Versagen durch die Zellen in der Bauchspeicheldrüse verursacht, die das Hormon Insulin produziert. Diabetes\n",
    "   Typ 1 beginnt meistens in Kinder- und Jugendalter, kann aber auch bei Erwachsenen auftreten. Bisher ist Diabetes Typ 1 nicht heilbar, aber mit Insulintherapie und anderen\n",
    "   Behandlungen kann der Blutzuckerspiegel kontrolliert werden. Die betroffenen Personen müssen ihr ganzes Leben den Blutzuckerspiegel überwachen und Insulin spritzen, um den\n",
    "   Blutzuckerspiegel im Normalbereich zu halten.\n",
    "\n",
    "### 1.2 Diabetes Typ 2\n",
    "   Diabetes Typ 2 ist die häufigste Form von Diabetes und tritt auf, zum einen durch verminderte Empfindlichkeit der Körperzellen für Insulin (Insulinresistenz), zum anderen führt\n",
    "   eine jahrelange Überproduktion von Insulin zu einer \"Erschöpfung\" der insulinproduzierenden Zellen (die Bauchspeicheldrüse kann nicht genügend Insulin für den erhöhten Bedarf\n",
    "   liefern). Diabetes Typ 2 tritt häufig bei älteren Menschen auf, kann aber auch bei jüngeren Menschen auftreten, insbesondere bei Übergewichtigen und Menschen mit einem\n",
    "   ungesunden Lebensstil. Die Behandlung von Diabetes Typ 2 umfasst in der Regel Änderungen des Lebensstils, wie z. B. eine gesunde Ernährung und regelmäßige Bewegung, sowie\n",
    "   Medikamente zur Regulierung des Blutzuckerspiegels.\n",
    "\n",
    "### 1.3 Zielsetzung\n",
    "   Ziel dieser Arbeit ist es, verschiedene Klassifikationsalgorithmen zu vergleichen, um die Vorhersage von Diabetes zu verbessern. Dabei werden insbesondere die logistische\n",
    "   Regression,\n",
    "   Support Vector Machines (SVM) und k-Nearest Neighbors (KNN) untersucht. Die Algorithmen werden auf einem öffentlich zugänglichen Datensatz trainiert und evaluiert, um ihre\n",
    "   Leistungsfähigkeit in Bezug auf Genauigkeit, Präzision, Recall und F1-Score zu bewerten. Die Ergebnisse werden anschließend vergleichend analysiert und visuell aufbereitet.\n",
    "\n",
    "\n",
    "## 2. Datenbeschreibung\n",
    "### 2.1 Datensatzbeschreibung\n",
    "   Der Datensatz, der für diese Analyse verwendet wird, enthält verschiedene Merkmale, die mit Diabetes in Verbindung stehen. Dazu gehören demografische Informationen wie Geschlecht (gender) und\n",
    "   Alter (age) sowie medizinische Werte wie Body-Mass-Index (BMI), Blutzucker- (blood_glocose_level) und HbA1c-Werte (HbA1c_level). Der Datensatz ist öffentlich zugänglich und wurde von Kaggle bereitgestellt.\n",
    "\n",
    "   ---"
   ]
  },
  {
   "cell_type": "code",
   "id": "eb1761db679942e7",
   "metadata": {
    "ExecuteTime": {
     "end_time": "2025-08-26T20:30:53.664751Z",
     "start_time": "2025-08-26T20:30:53.626285Z"
    }
   },
   "source": [
    "df = pd.read_csv('diabetes_prediction_dataset.csv')\n",
    "print(df.head()) # first 5 rows of the dataset"
   ],
   "outputs": [
    {
     "name": "stdout",
     "output_type": "stream",
     "text": [
      "   gender   age  hypertension  heart_disease smoking_history    bmi  \\\n",
      "0  Female  80.0             0              1           never  25.19   \n",
      "1  Female  54.0             0              0         No Info  27.32   \n",
      "2    Male  28.0             0              0           never  27.32   \n",
      "3  Female  36.0             0              0         current  23.45   \n",
      "4    Male  76.0             1              1         current  20.14   \n",
      "\n",
      "   HbA1c_level  blood_glucose_level  diabetes  \n",
      "0          6.6                  140         0  \n",
      "1          6.6                   80         0  \n",
      "2          5.7                  158         0  \n",
      "3          5.0                  155         0  \n",
      "4          4.8                  155         0  \n"
     ]
    }
   ],
   "execution_count": 10
  },
  {
   "cell_type": "markdown",
   "id": "3024e75f99f24ada",
   "metadata": {},
   "source": [
    "---\n",
    "### 2.2 Datenvorverarbeitung\n",
    "   Die Datenvorverarbeitung umfasst mehrere Schritte, um sicherzustellen, dass die Daten für die Analyse geeignet sind. Dazu gehören das Entfernen von Duplikaten, die in diesem Fall\n",
    "   aber nicht Sinnvoll ist, da es mehrere Menschen geben kann, die gleiche Merkmale auf zeigen (bei 100.000 Personen wahrscheinlich), das Behandeln von fehlenden Werten und das\n",
    "   Konvertieren von Datentypen. Darüber hinaus werden die Merkmale normalisiert oder skaliert, um sicherzustellen, dass sie für die Algorithmen geeignet sind.\n",
    "\n",
    "   Im Folgenden wird der Datensatz eingelesen und aufbereitet.\n",
    "   Die Spalte \"diabetes\" ist die Zielvariable, die angibt, ob eine Person Diabetes hat (1) oder nicht (0). Die Kategorischen Variablen sollten aber noch in numerische Variablen umgewandelt werden. Ein Beispiel bei <code>gender</code>, da es drei verschiedene Werte gibt. Es gibt Male/Female/Other man könnte es in 0/1/2 umwandeln. Aber in diesem Fall wird es mit One-Hot-Encoding gemacht. One-Hot-Encoding erstellt für jede Kategorie eine eigene Spalte, die entweder <code>True</code> oder <code> False</code> ist, je nachdem, ob die Kategorie zutrifft oder nicht. Das selbe wird für die Spalte <code>smoking_history</code> gemacht. Im weiteren werden numerische Werte geprüft und gegebenenfalls bereinigt. Das Bedeutet zum Beispiel, dass negative werte bei <code>bmi</code> oder >code>age</code> entfernt werden. Aber auch werte die unrealistisch sind, wie z.B. ein BMI von 100 oder ein Alter von 200 Jahren. Abschließend werden die Daten in Trainings- und Testdaten aufgeteilt.\n"
   ]
  },
  {
   "cell_type": "code",
   "id": "11321e2225746391",
   "metadata": {
    "ExecuteTime": {
     "end_time": "2025-08-26T20:30:53.737416Z",
     "start_time": "2025-08-26T20:30:53.677006Z"
    }
   },
   "source": [
    "import pandas as pd\n",
    "from sklearn.preprocessing import StandardScaler\n",
    "from sklearn.model_selection import train_test_split\n",
    "\n",
    "# Datensatz einlesen\n",
    "df = pd.read_csv('diabetes_prediction_dataset.csv')\n",
    "\n",
    "# Fehlende Werte behandeln (z.B. mit Mittelwert/Modus auffüllen)\n",
    "df.fillna(df.median(numeric_only=True), inplace=True)\n",
    "df.fillna(df.mode().iloc[0], inplace=True)\n",
    "\n",
    "# Unrealistische Werte entfernen\n",
    "df = df[(df['age'] > 0) & (df['age'] < 120)]\n",
    "df = df[(df['bmi'] > 10) & (df['bmi'] < 70)]\n",
    "\n",
    "# Nur die gewünschten Features auswählen\n",
    "features = ['HbA1c_level', 'blood_glucose_level', 'bmi']\n",
    "X = df[features]\n",
    "y = df['diabetes']\n",
    "\n",
    "# Skalierung der numerischen Merkmale\n",
    "scaler = StandardScaler()\n",
    "X_scaled = scaler.fit_transform(X)\n",
    "\n",
    "# Aufteilen in Trainings- und Testdaten\n",
    "X_train, X_test, y_train, y_test = train_test_split(X, y, test_size=0.2, random_state=42)"
   ],
   "outputs": [],
   "execution_count": 11
  },
  {
   "metadata": {},
   "cell_type": "markdown",
   "source": "Die Vorbereitete und Bereinigte Datensatz sieht nun so als Tabelle aus:",
   "id": "f508995ca28a5cb1"
  },
  {
   "metadata": {
    "ExecuteTime": {
     "end_time": "2025-08-26T20:30:53.750755Z",
     "start_time": "2025-08-26T20:30:53.748174Z"
    }
   },
   "cell_type": "code",
   "source": [
    "import pandas as pd\n",
    "\n",
    "# Nur die gewünschten Features ausgeben\n",
    "print(df[['HbA1c_level', 'blood_glucose_level', 'bmi']].head())\n",
    "#Zeigt die ersten 5 Zeilen des bereinigten Datensatzes"
   ],
   "id": "cbc5ad229c0e69a",
   "outputs": [
    {
     "name": "stdout",
     "output_type": "stream",
     "text": [
      "   HbA1c_level  blood_glucose_level    bmi\n",
      "0          6.6                  140  25.19\n",
      "1          6.6                   80  27.32\n",
      "2          5.7                  158  27.32\n",
      "3          5.0                  155  23.45\n",
      "4          4.8                  155  20.14\n"
     ]
    }
   ],
   "execution_count": 12
  },
  {
   "metadata": {},
   "cell_type": "markdown",
   "source": "Nun gibt es 100.000 Einträge mit 15 Spalten. Das sind viel mehr Spalten als zuvor, da durch das One-Hot-Encoding für die kategorischen Variablen neue Spalten erstellt wurden. ZU dem ist außerdem zusehen, dass es nur noch numerische Werte gibt. Nun sind die Daten bereit, um die verschiedenen Klassifikationsalgorithmen zu trainieren und zu evaluieren.",
   "id": "e9bc184f53ddaa50"
  },
  {
   "metadata": {},
   "cell_type": "markdown",
   "source": [
    "## 3. Methodik\n",
    "   In diesem Abschnitt werden die ausgewählten Klassifikationsalgorithmen beschrieben, die für die Vorhersage von Diabetes verwendet werden. Dazu gehören die logistische Regression, Support Vector Machines (SVM) und k-Nearest Neighbors (KNN). Für jeden Algorithmus wird die Funktionsweise erläutert und die Implementierung in Python mit der Bibliothek Scikit-Learn beschrieben. Zu erst werden alle Algorithmen trainiert und erst danach werden sie mit Metriken wie Accuracy, Precision, Recall, F1-Score und ROC-Kurve verglichen."
   ],
   "id": "55c05fc08198d879"
  },
  {
   "metadata": {},
   "cell_type": "markdown",
   "source": [
    "### 3.1 Logische Regression\n",
    "   Die logistische Regression ist ein statistisches Modell, das verwendet wird, um die Wahrscheinlichkeit eines binären Ergebnisses vorherzusagen. In diesem Fall wird sie verwendet, um die Wahrscheinlichkeit vorherzusagen, ob eine Person Diabetes hat (1) oder nicht (0). Die logistische Regression modelliert die Beziehung zwischen den unabhängigen Variablen (Features) und der abhängigen Variable (Zielvariable) durch eine logistische Funktion. Die logistische Funktion gibt Werte zwischen 0 und 1 zurück, die als Wahrscheinlichkeiten interpretiert werden können. Die logistische Regression wird in Python mit der Bibliothek Scikit-Learn implementiert. Der folgende Code zeigt, wie die logistische Regression auf den vorbereiteten Datensatz angewendet wird:\n",
    "\n"
   ],
   "id": "83adf2df075fab24"
  },
  {
   "metadata": {
    "ExecuteTime": {
     "end_time": "2025-08-26T20:30:53.815599Z",
     "start_time": "2025-08-26T20:30:53.763476Z"
    }
   },
   "cell_type": "code",
   "source": [
    "# Modell erstellen und trainieren\n",
    "logreg = LogisticRegression(max_iter=90000, random_state=42)\n",
    "logreg.fit(X_train, y_train)\n",
    "\n",
    "# Vorhersagen auf Testdaten\n",
    "y_pred = logreg.predict(X_test)\n",
    "\n",
    "# Genauigkeit berechnen\n",
    "accuracy = accuracy_score(y_test, y_pred)\n",
    "print(f'Genauigkeit der logistischen Regression: {accuracy:.4f}') #Kurzer Test der genauigkeit\n",
    "print(\"Model erwartet Features:\", logreg.n_features_in_)"
   ],
   "id": "d5e84e7d1515c908",
   "outputs": [
    {
     "name": "stdout",
     "output_type": "stream",
     "text": [
      "Genauigkeit der logistischen Regression: 0.9563\n",
      "Model erwartet Features: 3\n"
     ]
    }
   ],
   "execution_count": 13
  },
  {
   "metadata": {},
   "cell_type": "markdown",
   "source": "Was macht der Code hier? Zuerst wird ein LogisticRegression-Objekt mit maximal 90000 Iterationen un einem festen Zufallswert (random_state = 42) erstellt. Der random_state sorgt dafür, dass die Ergebnisse reproduzierbar sind. Da die Zielvariable binär ist also 0 oder 1, ist die logistische Regression ein geeigneter Algorithmus. Nach dem Erstellen des Modells wird es mit den Trainingsdaten trainiert. Dies macht die funktion <cod>fit()</code>. Der nächste Schritt nach dem Trainieren, die eine Vorhersage auf den Testdaten zu machen, diese wird mit der Funktion <code>predict()</code> gemacht. Man macht diese Vorhersage, um das trainierte Modell zu testen, um zu sehen, wie gut es trainiert wurde. Abschließend wird die Genauigkeit der Vorhersagen mit der Funktion <code>accuracy_score()</code> berechnet und ausgegeben. Die Genauigkeit gibt an, wie viele der Vorhersagen korrekt waren.",
   "id": "97cf2fc44e945617"
  },
  {
   "metadata": {},
   "cell_type": "markdown",
   "source": [
    "### 3.2 Support Vector Machines (SVM)\n",
    "   Das nächste Modell, das untersucht wird, sind die Suport Vector Machines (SVM). SVMs sind überwachte Lernmodelle, die für Klassikifikations- und Regressionsaufgaben verwendet werden. Das Hauptziel von SVMs ist es, eine optimale Trennlinie zu finden. Eine SVM Grafik sieht so aus:\n",
    "\n",
    "---\n",
    "<div style=\"text-align:center;\">\n",
    "  <img src=\"image/3-1_svm_optimal-hyperplane_max-margin_support-vectors-2-1.png\" alt=\"Grafik SVM\" style=\"max-height:350px;\" />\n",
    "  <div>Quelle: https://www.ibm.com/content/dam/connectedassets-adobe-cms/worldwide-content/creative-assets/s-migr/ul/g/8f/27/3-1_svm_optimal-hyperplane_max-margin_support-vectors-2-1.png</div>\n",
    "</div>\n",
    "\n",
    "---\n",
    "   Support Vector Machines versuchen, eine Trennlinie zufinden, die die Datenpunkte verschiedener Klassen zu trennen. Diese Trennlinie wird als Hyperplane bezeichnet. Das Ziel ist es, den Abstand (Margin) zwischen dem Hyperplane und den nächst gelgenden Datenpunkten zu maximieren. Die Datenpunkte, die am nächsten an der Hyperplane liegen, werden als Support Vector bezteichnet. Ein Vorteil von SVMs ist es, dass sie auch mit nicht-linear separierbaren Daten umgehen können. In diesem Datensatz wird nur eine lineare SVM verwendet, da die Daten gut trennbar sind. Die Linie der Hyperplane wird zwischen der Diabetes und Nicht-Diabetes gezogen."
   ],
   "id": "6f45dc6c979bf347"
  },
  {
   "metadata": {
    "ExecuteTime": {
     "end_time": "2025-08-26T20:30:53.833681Z",
     "start_time": "2025-08-26T20:30:53.829214Z"
    }
   },
   "cell_type": "code",
   "source": [
    "'''svm = SVC(kernel='linear', random_state=42)\n",
    "svm.fit(X_train, y_train)\n",
    "\n",
    "# Vorhersagen auf Testdaten\n",
    "y_pred_svm = svm.predict(X_test)\n",
    "\n",
    "# Genauigkeit berechnen\n",
    "accuracy_svm = accuracy_score(y_test, y_pred_svm)\n",
    "print(f'Genauigkeit der SVM: {accuracy_svm:.4f}')\n",
    "print(\"Model erwartet Features:\", svm.n_features_in_)'''"
   ],
   "id": "d74f2edd6fd1b8c4",
   "outputs": [
    {
     "data": {
      "text/plain": [
       "'svm = SVC(kernel=\\'linear\\', random_state=42)\\nsvm.fit(X_train, y_train)\\n\\n# Vorhersagen auf Testdaten\\ny_pred_svm = svm.predict(X_test)\\n\\n# Genauigkeit berechnen\\naccuracy_svm = accuracy_score(y_test, y_pred_svm)\\nprint(f\\'Genauigkeit der SVM: {accuracy_svm:.4f}\\')\\nprint(\"Model erwartet Features:\", svm.n_features_in_)'"
      ]
     },
     "execution_count": 14,
     "metadata": {},
     "output_type": "execute_result"
    }
   ],
   "execution_count": 14
  },
  {
   "metadata": {
    "ExecuteTime": {
     "end_time": "2025-08-26T20:30:53.848090Z",
     "start_time": "2025-08-26T20:30:53.845402Z"
    }
   },
   "cell_type": "code",
   "source": [
    "'''import pandas as pd\n",
    "import matplotlib.pyplot as plt\n",
    "import numpy as np\n",
    "from sklearn.model_selection import train_test_split\n",
    "from sklearn.svm import SVC\n",
    "from sklearn.preprocessing import StandardScaler\n",
    "from mpl_toolkits.mplot3d import Axes3D\n",
    "\n",
    "# Datensatz einlesen und bereinigen\n",
    "df = pd.read_csv('diabetes_prediction_dataset.csv')\n",
    "df.fillna(df.median(numeric_only=True), inplace=True)\n",
    "df.fillna(df.mode().iloc[0], inplace=True)\n",
    "df = pd.get_dummies(df, columns=['gender', 'smoking_history'], dtype=int)\n",
    "df = df[(df['age'] > 0) & (df['age'] < 120)]\n",
    "df = df[(df['bmi'] > 10) & (df['bmi'] < 70)]\n",
    "\n",
    "# Drei Features auswählen und skalieren\n",
    "features = [\"blood_glucose_level\", \"bmi\", \"age\"]\n",
    "X = df[features]\n",
    "y = df[\"diabetes\"]\n",
    "\n",
    "scaler = StandardScaler()\n",
    "X_scaled = scaler.fit_transform(X)\n",
    "\n",
    "# Train/Test-Split\n",
    "X_train, X_test, y_train, y_test = train_test_split(X_scaled, y, test_size=0.2, random_state=42)\n",
    "\n",
    "# SVM auf skalierten Daten trainieren\n",
    "svm = SVC(kernel='linear', random_state=42)\n",
    "svm.fit(X_train, y_train)\n",
    "\n",
    "# 3D-Plot vorbereiten\n",
    "fig = plt.figure(figsize=(10, 8))\n",
    "ax = fig.add_subplot(111, projection='3d')\n",
    "\n",
    "# Punkte plotten\n",
    "ax.scatter(X_scaled[:, 0], X_scaled[:, 1], X_scaled[:, 2], c=y, cmap=\"coolwarm\", alpha=0.5)\n",
    "\n",
    "# Meshgrid für Entscheidungsfläche\n",
    "xlim = (X_scaled[:, 0].min(), X_scaled[:, 0].max())\n",
    "ylim = (X_scaled[:, 1].min(), X_scaled[:, 1].max())\n",
    "\n",
    "xx, yy = np.meshgrid(np.linspace(xlim[0], xlim[1], 30),\n",
    "                     np.linspace(ylim[0], ylim[1], 30))\n",
    "\n",
    "# Ebene berechnen: w1*x + w2*y + w3*z + b = 0  => z = (-w1*x - w2*y - b)/w3\n",
    "w = svm.coef_[0]\n",
    "b = svm.intercept_[0]\n",
    "zz = (-w[0] * xx - w[1] * yy - b) / w[2]\n",
    "\n",
    "# Entscheidungsfläche plotten\n",
    "ax.plot_surface(xx, yy, zz, color='k', alpha=0.3)\n",
    "\n",
    "ax.set_xlabel(\"Glucose (skaliert)\")\n",
    "ax.set_ylabel(\"BMI (skaliert)\")\n",
    "ax.set_zlabel(\"Age (skaliert)\")\n",
    "plt.title(\"SVM Entscheidungsfläche (3D, linear, skaliert)\")\n",
    "plt.show()'''"
   ],
   "id": "99ddccee589ed1c9",
   "outputs": [
    {
     "data": {
      "text/plain": [
       "'import pandas as pd\\nimport matplotlib.pyplot as plt\\nimport numpy as np\\nfrom sklearn.model_selection import train_test_split\\nfrom sklearn.svm import SVC\\nfrom sklearn.preprocessing import StandardScaler\\nfrom mpl_toolkits.mplot3d import Axes3D\\n\\n# Datensatz einlesen und bereinigen\\ndf = pd.read_csv(\\'diabetes_prediction_dataset.csv\\')\\ndf.fillna(df.median(numeric_only=True), inplace=True)\\ndf.fillna(df.mode().iloc[0], inplace=True)\\ndf = pd.get_dummies(df, columns=[\\'gender\\', \\'smoking_history\\'], dtype=int)\\ndf = df[(df[\\'age\\'] > 0) & (df[\\'age\\'] < 120)]\\ndf = df[(df[\\'bmi\\'] > 10) & (df[\\'bmi\\'] < 70)]\\n\\n# Drei Features auswählen und skalieren\\nfeatures = [\"blood_glucose_level\", \"bmi\", \"age\"]\\nX = df[features]\\ny = df[\"diabetes\"]\\n\\nscaler = StandardScaler()\\nX_scaled = scaler.fit_transform(X)\\n\\n# Train/Test-Split\\nX_train, X_test, y_train, y_test = train_test_split(X_scaled, y, test_size=0.2, random_state=42)\\n\\n# SVM auf skalierten Daten trainieren\\nsvm = SVC(kernel=\\'linear\\', random_state=42)\\nsvm.fit(X_train, y_train)\\n\\n# 3D-Plot vorbereiten\\nfig = plt.figure(figsize=(10, 8))\\nax = fig.add_subplot(111, projection=\\'3d\\')\\n\\n# Punkte plotten\\nax.scatter(X_scaled[:, 0], X_scaled[:, 1], X_scaled[:, 2], c=y, cmap=\"coolwarm\", alpha=0.5)\\n\\n# Meshgrid für Entscheidungsfläche\\nxlim = (X_scaled[:, 0].min(), X_scaled[:, 0].max())\\nylim = (X_scaled[:, 1].min(), X_scaled[:, 1].max())\\n\\nxx, yy = np.meshgrid(np.linspace(xlim[0], xlim[1], 30),\\n                     np.linspace(ylim[0], ylim[1], 30))\\n\\n# Ebene berechnen: w1*x + w2*y + w3*z + b = 0  => z = (-w1*x - w2*y - b)/w3\\nw = svm.coef_[0]\\nb = svm.intercept_[0]\\nzz = (-w[0] * xx - w[1] * yy - b) / w[2]\\n\\n# Entscheidungsfläche plotten\\nax.plot_surface(xx, yy, zz, color=\\'k\\', alpha=0.3)\\n\\nax.set_xlabel(\"Glucose (skaliert)\")\\nax.set_ylabel(\"BMI (skaliert)\")\\nax.set_zlabel(\"Age (skaliert)\")\\nplt.title(\"SVM Entscheidungsfläche (3D, linear, skaliert)\")\\nplt.show()'"
      ]
     },
     "execution_count": 15,
     "metadata": {},
     "output_type": "execute_result"
    }
   ],
   "execution_count": 15
  },
  {
   "metadata": {},
   "cell_type": "markdown",
   "source": [
    "### 3.3 k-Nearest Neighbors (KNN)\n",
    "   Der letzte Algorithmus, der in dieser Arbeit untersucht wird, ist der k-Nearest Neighbors (KNN) Algorithmus. KNN ist ein einfacher, aber effektiver Klassifikationsalgorithmus, der auf dem Konzept der Ähnlichkeit basiert. Der KNN-Algorithmus funktioniert, indem er die k nächsten Nachbarn eines neuen Datenpunkts in den Trainingsdaten findet und die Klasse des neuen Datenpunkts basierend auf der Mehrheit der Klassen dieser Nachbarn vorhersagt. Der Wert von k ist ein Hyperparameter, der vom Benutzer festgelegt wird und die Anzahl der Nachbarn angibt, die berücksichtigt werden sollen. In diesem Fall wird k auf 5 gesetzt, was bedeutet, dass die 5 nächsten Nachbarn verwendet werden, um die Klasse des neuen Datenpunkts vorherzusagen."
   ],
   "id": "f6231a13d96084d7"
  },
  {
   "metadata": {},
   "cell_type": "markdown",
   "source": [
    "---\n",
    "\n",
    "<div style=\"text-align:center;\">\n",
    "  <img src=\"image/KNN.png\" alt=\"KNN\" style=\"max-height:350px;\" />\n",
    "  <div>Quelle: https://www.ibm.com/content/dam/connectedassets-adobe-cms/worldwide-content/cdp/cf/ul/g/ef/3a/KNN.png</div>\n",
    "</div>\n",
    "\n",
    "<div style=\"text-align:center;\">\n",
    "  <img src=\"image/knn-kaggle.png\" alt=\"KNN\" style=\"max-height:350px;\" />\n",
    "  <div>Quelle: https://th.bing.com/th/id/R.5680ba7394c320efaa16adfe9b5a1cf2?rik=6y4BP3dnfrmuvA&riu=http%3a%2f%2fwww.datasciencelovers.com%2fwp-content%2fuploads%2f2020%2f03%2fk-nearest-neighbor2.png&ehk=VprLSRTXghhpziYSxSXqAkCDmoZSLarGS26xo9F2GmY%3d&risl=&pid=ImgRaw&r=0</div>\n",
    "</div>\n",
    "\n",
    "---"
   ],
   "id": "61c7568175851ccc"
  },
  {
   "metadata": {},
   "cell_type": "markdown",
   "source": [
    "Wie in der Abbildung dargestellt gibt es zwei Klassen oder auch Kategorien. In diese Arbeit wäre zum Beispiel Category A Personen mit Diabetes und Category B Personen ohnen Diabetes. Diese zwei Gruppen befinden sich als Beispiel in einem Raum. Eine neue Person betritt den Raum und soll sich einmal ein Ordnen. Der blauen Punkt im linken Bild stellt die neue Person dar. Der KNN-Algorithmus sucht nun die k nächsten Nachbarn dieser neuen Person. In diesem Fall sind es 5 Nachbarn (k=5), die gesucht werden. Die Nachbarn sind die nächsten zu dieser Person, in diesem Fall sind es 3 Personen aus Category A und 2 aus der Category B. Da die Mehrheit der Nachbarn aus Category A kommt, wird die neue Person ebenfalls in Category A eingeordnert.\n",
    "Für den KNN-Algorithmus wird die Implementierung aus der Sklearn Bibliothek verwendet."
   ],
   "id": "12b46624ec3d7744"
  },
  {
   "metadata": {
    "ExecuteTime": {
     "end_time": "2025-08-26T20:30:54.212636Z",
     "start_time": "2025-08-26T20:30:53.860731Z"
    }
   },
   "cell_type": "code",
   "source": [
    "from sklearn.neighbors import KNeighborsClassifier\n",
    "# KNN-Modell erstellen und trainieren\n",
    "knn = KNeighborsClassifier(n_neighbors=5)\n",
    "knn.fit(X_train, y_train)\n",
    "# Vorhersagen auf Testdaten\n",
    "y_pred_knn = knn.predict(X_test)\n",
    "# Genauigkeit berechnen\n",
    "accuracy_knn = accuracy_score(y_test, y_pred_knn)\n",
    "print(f'Genauigkeit des KNN: {accuracy_knn:.4f}')\n",
    "print(\"Model erwartet Features:\", knn.n_features_in_)"
   ],
   "id": "d3847b04bb061c09",
   "outputs": [
    {
     "name": "stdout",
     "output_type": "stream",
     "text": [
      "Genauigkeit des KNN: 0.9618\n",
      "Model erwartet Features: 3\n"
     ]
    }
   ],
   "execution_count": 16
  },
  {
   "metadata": {
    "jupyter": {
     "is_executing": true
    },
    "ExecuteTime": {
     "start_time": "2025-08-26T20:30:54.226100Z"
    }
   },
   "cell_type": "code",
   "source": [
    "import seaborn as sns\n",
    "import pandas as pd\n",
    "\n",
    "# DataFrame mit allen Features und Zielvariable\n",
    "df_plot = df.copy()\n",
    "df_plot['diabetes'] = y\n",
    "\n",
    "sns.pairplot(df_plot, hue='diabetes', corner=True)\n",
    "plt.show()\n",
    "\n",
    "\n"
   ],
   "id": "4a1a38b2c3b55d1f",
   "outputs": [],
   "execution_count": null
  },
  {
   "metadata": {},
   "cell_type": "code",
   "source": [
    "from sklearn.decomposition import PCA\n",
    "import matplotlib.pyplot as plt\n",
    "\n",
    "pca = PCA(n_components=2)\n",
    "X_pca = pca.fit_transform(X_scaled)\n",
    "\n",
    "plt.figure(figsize=(8,6))\n",
    "plt.scatter(X_pca[:,0], X_pca[:,1], c=y, cmap='coolwarm', alpha=0.5)\n",
    "plt.xlabel('PCA 1')\n",
    "plt.ylabel('PCA 2')\n",
    "plt.title('PCA-Plot der 15 Features')\n",
    "plt.show()"
   ],
   "id": "772beeb48e144594",
   "outputs": [],
   "execution_count": null
  },
  {
   "metadata": {},
   "cell_type": "markdown",
   "source": [
    "## Quelle\n",
    "[09.08.2025] https://www.kaggle.com/datasets/iammustafatz/diabetes-prediction-dataset\n",
    "\n",
    "[24.08.2025] https://www.ibm.com/de-de/think/topics/support-vector-machine"
   ],
   "id": "3842b528b5660cb9"
  }
 ],
 "metadata": {
  "kernelspec": {
   "display_name": "Python 3 (ipykernel)",
   "language": "python",
   "name": "python3"
  },
  "language_info": {
   "codemirror_mode": {
    "name": "ipython",
    "version": 3
   },
   "file_extension": ".py",
   "mimetype": "text/x-python",
   "name": "python",
   "nbconvert_exporter": "python",
   "pygments_lexer": "ipython3",
   "version": "3.9.6"
  }
 },
 "nbformat": 4,
 "nbformat_minor": 5
}
