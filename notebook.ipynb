{
 "cells": [
  {
   "cell_type": "markdown",
   "id": "3bf45fb9c1a5da63",
   "metadata": {},
   "source": [
    "In dieser Arbeit werden Machine-Learning-Verfahren im Hinblick auf die Vorhersage von Diabetes untersucht. Ziel ist es, ausgewählte Klassifikationsalgorithmen – insbesondere logistische Regression, Support Vector Machines (SVM) und k-Nearest Neighbors (KNN) – auf ihre Leistungsfähigkeit zu vergleichen.\n",
    "\n",
    "Als Datengrundlage dient der öffentlich verfügbare Diabetes Prediction Dataset von Kaggle, der sowohl demografische Merkmale (z. B. Alter, Geschlecht, Raucherstatus) als auch medizinische Werte wie BMI, Blutzucker- und HbA1c-Werte enthält. Die Vorgehensweise umfasst die Datenvorverarbeitung, das Trainieren der Modelle in Python (Scikit-Learn) sowie die Bewertung mithilfe von Metriken wie Accuracy, Precision, Recall, F1-Score und ROC-Kurve. Die Ergebnisse werden abschließend vergleichend analysiert und visuell aufbereitet."
   ]
  },
  {
   "cell_type": "code",
   "execution_count": 4,
   "id": "5ce49dc3e3b95e1e",
   "metadata": {
    "ExecuteTime": {
     "end_time": "2025-08-17T11:39:25.955988Z",
     "start_time": "2025-08-17T11:39:25.952321Z"
    }
   },
   "outputs": [],
   "source": [
    "import pandas as pd\n",
    "import numpy as np\n",
    "import matplotlib.pyplot as plt\n",
    "from sklearn.model_selection import train_test_split"
   ]
  },
  {
   "cell_type": "markdown",
   "id": "8a77807f92f26ee",
   "metadata": {},
   "source": [
    "# Vergleich von Klassifikationsalgorithmen zur Vorhersage von Diabetes anhand des Kaggle-Datensatzes: Eine Analyse mit logistischer Regression, SVM und KNN"
   ]
  },
  {
   "cell_type": "markdown",
   "id": "68136fc73e1ef4e1",
   "metadata": {},
   "source": [
    "## Inhaltsverzeichnis\n",
    "**1. Einleitung**\n",
    "   - 1.1 Diabetes Typ 1\n",
    "   - 1.2 Diabetes Typ 2\n",
    "   - 1.3 Zielsetzung\n",
    "\n",
    "**2. Datenbeschreibung**\n",
    "   - 2.1 Datensatzbeschreibung\n",
    "   - 2.2 Datenvorverarbeitung"
   ]
  },
  {
   "cell_type": "markdown",
   "id": "4d36d57ed126bfcf",
   "metadata": {},
   "source": [
    "## 1. Einleitung\n",
    "\n",
    "   Diabetes oder auch umgangsprachlich die Zuckerkranheit (lateinisch: Diabetes mellitus\n",
    "   ist ein Überbegriff für eine Gruppe von Stoffwechselerkrankungen. Bei Diabetes ist der\n",
    "   Blutzuckerspiegel dauerhaft erhöht, was zu verschiedenen gesundheitlichen Problemen\n",
    "   führen kann. Die Krankheit kann in zwei Haupttypen unterteilt werden: Typ 1 und Typ 2.\n",
    "   Typ 1\n",
    "   ist eine Autoimmunerkrankung, bei der die Insulin produzierenden Zellen in der\n",
    "   Bauchspeicheldrüse zerstört werden. Typ 2 hingegen ist oft mit Übergewicht und\n",
    "   Bewegungsmangel\n",
    "   verbunden und kann durch Lebensstiländerungen und Medikamente behandelt werden.\n",
    "    Unbehandelt kann Diabetes zu schwerwiegenden Komplikationen wie Herzkrankheiten,\n",
    "    Nierenerkrankungen, Augenproblemen und Nervenschäden führen. Eine frühzeitige Diagnose\n",
    "   und Behandlung sind entscheidend, um die Krankheit zu kontrollieren und das Risiko von\n",
    "   Komplikationen zu verringern. Diabetes kann man durch eine Blutuntersuchung diagnostizieren,\n",
    "   bei der der Blutzuckerspiegel gemessen wird.\n",
    "\n",
    "---\n",
    "\n",
    "   <div style=\"text-align:center;\">\n",
    "  <img src=\"image/Regelkreis-Zucker.png\" alt=\"Regelkreis Zucker\" style=\"max-height:350px;\" />\n",
    "  <div>Quelle: https://praxis-beylich.de/wp-content/uploads/2018/02/Regelkreis-Zucker.png</div>\n",
    "</div>\n",
    "\n",
    "---\n",
    "\n",
    "### 1.1 Diabetes Typ 1\n",
    "   Die Ursache des Typ 1 Diabetes ist ein absoluter Mangel an Insulin, ein Hormon, das für die Regulierung des Blutzuckerspiegels verantwortlich ist. Weshalb dieser Diabetestyp auch\n",
    "   insulinabhängiger Diabetes mellitus heißt. Er wird durch das absolute Versagen durch die Zellen in der Bauchspeicheldrüse verursacht, die das Hormon Insulin produziert. Diabetes\n",
    "   Typ 1 beginnt meistens in Kinder- und Jugendalter, kann aber auch bei Erwachsenen auftreten. Bisher ist Diabetes Typ 1 nicht heilbar, aber mit Insulintherapie und anderen\n",
    "   Behandlungen kann der Blutzuckerspiegel kontrolliert werden. Die betroffenen Personen müssen ihr ganzes Leben den Blutzuckerspiegel überwachen und Insulin spritzen, um den\n",
    "   Blutzuckerspiegel im Normalbereich zu halten.\n",
    "\n",
    "### 1.2 Diabetes Typ 2\n",
    "   Diabetes Typ 2 ist die häufigste Form von Diabetes und tritt auf, zum einen durch verminderte Empfindlichkeit der Körperzellen für Insulin (Insulinresistenz), zum anderen führt\n",
    "   eine jahrelange Überproduktion von Insulin zu einer \"Erschöpfung\" der insulinproduzierenden Zellen (die Bauchspeicheldrüse kann nicht genügend Insulin für den erhöhten Bedarf\n",
    "   liefern). Diabetes Typ 2 tritt häufig bei älteren Menschen auf, kann aber auch bei jüngeren Menschen auftreten, insbesondere bei Übergewichtigen und Menschen mit einem\n",
    "   ungesunden Lebensstil. Die Behandlung von Diabetes Typ 2 umfasst in der Regel Änderungen des Lebensstils, wie z. B. eine gesunde Ernährung und regelmäßige Bewegung, sowie\n",
    "   Medikamente zur Regulierung des Blutzuckerspiegels.\n",
    "\n",
    "### 1.3 Zielsetzung\n",
    "   Ziel dieser Arbeit ist es, verschiedene Klassifikationsalgorithmen zu vergleichen, um die Vorhersage von Diabetes zu verbessern. Dabei werden insbesondere die logistische\n",
    "   Regression,\n",
    "   Support Vector Machines (SVM) und k-Nearest Neighbors (KNN) untersucht. Die Algorithmen werden auf einem öffentlich zugänglichen Datensatz trainiert und evaluiert, um ihre\n",
    "   Leistungsfähigkeit in Bezug auf Genauigkeit, Präzision, Recall und F1-Score zu bewerten. Die Ergebnisse werden anschließend vergleichend analysiert und visuell aufbereitet.\n",
    "\n",
    "\n",
    "## 2. Datenbeschreibung\n",
    "### 2.1 Datensatzbeschreibung\n",
    "   Der Datensatz, der für diese Analyse verwendet wird, enthält verschiedene Merkmale, die mit Diabetes in Verbindung stehen. Dazu gehören demografische Informationen wie Geschlecht (gender) und\n",
    "   Alter (age) sowie medizinische Werte wie Body-Mass-Index (BMI), Blutzucker- (blood_glocose_level) und HbA1c-Werte (HbA1c_level). Der Datensatz ist öffentlich zugänglich und wurde von Kaggle bereitgestellt."
   ]
  },
  {
   "cell_type": "code",
   "execution_count": 5,
   "id": "eb1761db679942e7",
   "metadata": {
    "ExecuteTime": {
     "end_time": "2025-08-17T11:47:08.868967Z",
     "start_time": "2025-08-17T11:47:08.823633Z"
    }
   },
   "outputs": [
    {
     "name": "stdout",
     "output_type": "stream",
     "text": [
      "   gender   age  hypertension  heart_disease smoking_history    bmi  \\\n",
      "0  Female  80.0             0              1           never  25.19   \n",
      "1  Female  54.0             0              0         No Info  27.32   \n",
      "2    Male  28.0             0              0           never  27.32   \n",
      "3  Female  36.0             0              0         current  23.45   \n",
      "4    Male  76.0             1              1         current  20.14   \n",
      "\n",
      "   HbA1c_level  blood_glucose_level  diabetes  \n",
      "0          6.6                  140         0  \n",
      "1          6.6                   80         0  \n",
      "2          5.7                  158         0  \n",
      "3          5.0                  155         0  \n",
      "4          4.8                  155         0  \n"
     ]
    }
   ],
   "source": [
    "df = pd.read_csv('diabetes_prediction_dataset.csv')\n",
    "print(df.head()) # first 5 rows of the dataset"
   ]
  },
  {
   "cell_type": "markdown",
   "id": "f36a7d0f294c3794",
   "metadata": {},
   "source": [
    "### 2.2 Datenvorverarbeitung\n",
    "   Die Datenvorverarbeitung umfasst mehrere Schritte, um sicherzustellen, dass die Daten für die Analyse geeignet sind. Dazu gehören das Entfernen von Duplikaten, die in diesem Fall aber nicht Sinnvoll ist, da es mehrere Menschen geben kann, die gleiche Merkmale auf zeigen (bei 100.000 Personen wahrscheinlich), das Behandeln von fehlenden Werten und das Konvertieren von Datentypen. Darüber hinaus werden die Merkmale normalisiert oder skaliert, um sicherzustellen, dass sie für die Algorithmen geeignet sind.\n",
    "\n",
    "   Im Folgenden wird der Datensatz eingelesen und aufbereitet:"
   ]
  },
  {
   "cell_type": "markdown",
   "id": "3842b528b5660cb9",
   "metadata": {},
   "source": [
    "## Quelle\n",
    "[09.08.2025] https://www.kaggle.com/datasets/iammustafatz/diabetes-prediction-dataset"
   ]
  }
 ],
 "metadata": {
  "kernelspec": {
   "display_name": "Python 3",
   "language": "python",
   "name": "python3"
  },
  "language_info": {
   "codemirror_mode": {
    "name": "ipython",
    "version": 3
   },
   "file_extension": ".py",
   "mimetype": "text/x-python",
   "name": "python",
   "nbconvert_exporter": "python",
   "pygments_lexer": "ipython3",
   "version": "3.9.6"
  }
 },
 "nbformat": 4,
 "nbformat_minor": 5
}
