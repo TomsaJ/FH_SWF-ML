{
 "cells": [
  {
   "metadata": {},
   "cell_type": "markdown",
   "source": [
    "In dieser Arbeit werden Machine-Learning-Verfahren im Hinblick auf die Vorhersage von Diabetes untersucht. Ziel ist es, ausgewählte Klassifikationsalgorithmen – insbesondere logistische Regression, Support Vector Machines (SVM) und k-Nearest Neighbors (KNN) – auf ihre Leistungsfähigkeit zu vergleichen.\n",
    "\n",
    "Als Datengrundlage dient der öffentlich verfügbare Diabetes Prediction Dataset von Kaggle, der sowohl demografische Merkmale (z. B. Alter, Geschlecht, Raucherstatus) als auch medizinische Werte wie BMI, Blutzucker- und HbA1c-Werte enthält. Die Vorgehensweise umfasst die Datenvorverarbeitung, das Trainieren der Modelle in Python (Scikit-Learn) sowie die Bewertung mithilfe von Metriken wie Accuracy, Precision, Recall, F1-Score und ROC-Kurve. Die Ergebnisse werden abschließend vergleichend analysiert und visuell aufbereitet."
   ],
   "id": "a0ed6c2d6da53ae8"
  },
  {
   "metadata": {},
   "cell_type": "code",
   "source": [
    "from sklearn.linear_model import LogisticRegression\n",
    "from sklearn.metrics import accuracy_score\n",
    "import pandas as pd\n",
    "from sklearn.preprocessing import StandardScaler\n",
    "from sklearn.model_selection import train_test_split\n",
    "from sklearn.svm import SVC\n",
    "import matplotlib.pyplot as plt\n",
    "import numpy as np\n",
    "from sklearn.metrics import precision_score"
   ],
   "id": "1a3c5b50f4275a06",
   "outputs": [],
   "execution_count": null
  },
  {
   "metadata": {},
   "cell_type": "markdown",
   "source": [
    "<h4 style=\"font-size:18px\">Semesterabschließende schriftliche Ausarbeitung im Modul Machine Learning (Sommersemester 2025)</h4>\n",
    "<h1 style=\"font-size:32px\">Vergleich von Klassifikationsalgorithmen zur Vorhersage von Diabetes anhand des Kaggle-Datensatzes: Eine Analyse mit logistischer Regression, SVM und KNN</h1>\n",
    "<h2 style=\"font-size:18px\">von Julian Tomsa</h2>"
   ],
   "id": "9a69a3f8aa83f933"
  },
  {
   "metadata": {},
   "cell_type": "markdown",
   "source": [
    "## Inhaltsverzeichnis\n",
    "**1. Einleitung**\n",
    "   - 1.1 Diabetes Typ 1\n",
    "   - 1.2 Diabetes Typ 2\n",
    "   - 1.3 Zielsetzung\n",
    "\n",
    "**2. Datenbeschreibung**\n",
    "   - 2.1 Datensatzbeschreibung\n",
    "   - 2.2 Datenvorverarbeitung\n",
    "\n",
    "**3. Methodik**\n",
    "   - 3.1 Logistische Regression\n",
    "   - 3.2 Support Vector Machines (SVM)\n",
    "   - 3.3 k-Nearest Neighbors (KNN)\n",
    "   - 3.4 Einfacher Vorhersage-Vergleich\n",
    "   - 3.5 Vergleich der Modelle\n",
    "      - 3.5.1 Accuracy\n",
    "      - 3.5.2 Precision\n",
    "      - 3.5.3 Recall\n",
    "      - 3.5.4 F1-Score\n",
    "      - 3.5.5 ROC-Kurve"
   ],
   "id": "5baefc239e1a812f"
  },
  {
   "metadata": {},
   "cell_type": "markdown",
   "source": [
    "## 1. Einleitung\n",
    "\n",
    "   Diabetes oder auch umgangsprachlich die Zuckerkranheit (lateinisch: Diabetes mellitus\n",
    "   ist ein Überbegriff für eine Gruppe von Stoffwechselerkrankungen. Bei Diabetes ist der\n",
    "   Blutzuckerspiegel dauerhaft erhöht, was zu verschiedenen gesundheitlichen Problemen\n",
    "   führen kann. Die Krankheit kann in zwei Haupttypen unterteilt werden: Typ 1 und Typ 2.\n",
    "   Typ 1\n",
    "   ist eine Autoimmunerkrankung, bei der die Insulin produzierenden Zellen in der\n",
    "   Bauchspeicheldrüse zerstört werden. Typ 2 hingegen ist oft mit Übergewicht und\n",
    "   Bewegungsmangel\n",
    "   verbunden und kann durch Lebensstiländerungen und Medikamente behandelt werden.\n",
    "    Unbehandelt kann Diabetes zu schwerwiegenden Komplikationen wie Herzkrankheiten,\n",
    "    Nierenerkrankungen, Augenproblemen und Nervenschäden führen. Eine frühzeitige Diagnose\n",
    "   und Behandlung sind entscheidend, um die Krankheit zu kontrollieren und das Risiko von\n",
    "   Komplikationen zu verringern. Diabetes kann man durch eine Blutuntersuchung diagnostizieren,\n",
    "   bei der der Blutzuckerspiegel gemessen wird.\n",
    "\n",
    "---\n",
    "\n",
    "   <div style=\"text-align:center;\">\n",
    "  <img src=\"image/Regelkreis-Zucker.png\" alt=\"Regelkreis Zucker\" style=\"max-height:350px;\" />\n",
    "  <div>Quelle: https://praxis-beylich.de/wp-content/uploads/2018/02/Regelkreis-Zucker.png</div>\n",
    "</div>\n",
    "\n",
    "---\n",
    "\n",
    "### 1.1 Diabetes Typ 1\n",
    "   Die Ursache des Typ 1 Diabetes ist ein absoluter Mangel an Insulin, ein Hormon, das für die Regulierung des Blutzuckerspiegels verantwortlich ist. Weshalb dieser Diabetestyp auch\n",
    "   insulinabhängiger Diabetes mellitus heißt. Er wird durch das absolute Versagen durch die Zellen in der Bauchspeicheldrüse verursacht, die das Hormon Insulin produziert. Diabetes\n",
    "   Typ 1 beginnt meistens in Kinder- und Jugendalter, kann aber auch bei Erwachsenen auftreten. Bisher ist Diabetes Typ 1 nicht heilbar, aber mit Insulintherapie und anderen\n",
    "   Behandlungen kann der Blutzuckerspiegel kontrolliert werden. Die betroffenen Personen müssen ihr ganzes Leben den Blutzuckerspiegel überwachen und Insulin spritzen, um den\n",
    "   Blutzuckerspiegel im Normalbereich zu halten.\n",
    "\n",
    "### 1.2 Diabetes Typ 2\n",
    "   Diabetes Typ 2 ist die häufigste Form von Diabetes und tritt auf, zum einen durch verminderte Empfindlichkeit der Körperzellen für Insulin (Insulinresistenz), zum anderen führt\n",
    "   eine jahrelange Überproduktion von Insulin zu einer \"Erschöpfung\" der insulinproduzierenden Zellen (die Bauchspeicheldrüse kann nicht genügend Insulin für den erhöhten Bedarf\n",
    "   liefern). Diabetes Typ 2 tritt häufig bei älteren Menschen auf, kann aber auch bei jüngeren Menschen auftreten, insbesondere bei Übergewichtigen und Menschen mit einem\n",
    "   ungesunden Lebensstil. Die Behandlung von Diabetes Typ 2 umfasst in der Regel Änderungen des Lebensstils, wie z. B. eine gesunde Ernährung und regelmäßige Bewegung, sowie\n",
    "   Medikamente zur Regulierung des Blutzuckerspiegels.\n",
    "\n",
    "### 1.3 Zielsetzung\n",
    "   Ziel dieser Arbeit ist es, verschiedene Klassifikationsalgorithmen zu vergleichen, um die Vorhersage von Diabetes zu verbessern. Dabei werden insbesondere die logistische\n",
    "   Regression,\n",
    "   Support Vector Machines (SVM) und k-Nearest Neighbors (KNN) untersucht. Die Algorithmen werden auf einem öffentlich zugänglichen Datensatz trainiert und evaluiert, um ihre\n",
    "   Leistungsfähigkeit in Bezug auf Genauigkeit, Präzision, Recall und F1-Score zu bewerten. Die Ergebnisse werden anschließend vergleichend analysiert und visuell aufbereitet.\n",
    "\n",
    "\n",
    "## 2. Datenbeschreibung\n",
    "### 2.1 Datensatzbeschreibung\n",
    "   Der Datensatz, der für diese Analyse verwendet wird, enthält verschiedene Merkmale, die mit Diabetes in Verbindung stehen. Dazu gehören demografische Informationen wie Geschlecht (gender) und\n",
    "   Alter (age) sowie medizinische Werte wie Body-Mass-Index (BMI), Blutzucker- (blood_glocose_level) und HbA1c-Werte (HbA1c_level). Der Datensatz ist öffentlich zugänglich und wurde von Kaggle bereitgestellt.\n",
    "\n",
    "   ---"
   ],
   "id": "c3141cbaeeb2adb3"
  },
  {
   "metadata": {},
   "cell_type": "code",
   "source": [
    "df = pd.read_csv('diabetes_prediction_dataset.csv')\n",
    "print(df.head()) # first 5 rows of the dataset"
   ],
   "id": "51a53eba3f12fd5",
   "outputs": [],
   "execution_count": null
  },
  {
   "metadata": {},
   "cell_type": "markdown",
   "source": [
    "---\n",
    "### 2.2 Datenvorverarbeitung\n",
    "   Die Datenvorverarbeitung umfasst mehrere Schritte, um sicherzustellen, dass die Daten für die Analyse geeignet sind. Dazu gehören das Entfernen von Duplikaten, die in diesem Fall\n",
    "   aber nicht Sinnvoll ist, da es mehrere Menschen geben kann, die gleiche Merkmale auf zeigen (bei 100.000 Personen wahrscheinlich), das Behandeln von fehlenden Werten und das\n",
    "   Konvertieren von Datentypen. Darüber hinaus werden die Merkmale normalisiert oder skaliert, um sicherzustellen, dass sie für die Algorithmen geeignet sind.\n",
    "\n",
    "   Im Folgenden wird der Datensatz eingelesen und aufbereitet.\n",
    "   Die Spalte \"diabetes\" ist die Zielvariable, die angibt, ob eine Person Diabetes hat (1) oder nicht (0). Die Kategorischen Variablen sollten aber noch in numerische Variablen umgewandelt werden. Ein Beispiel bei <code>gender</code>, da es drei verschiedene Werte gibt. Es gibt Male/Female/Other man könnte es in 0/1/2 umwandeln. Aber in diesem Fall wird es mit One-Hot-Encoding gemacht. One-Hot-Encoding erstellt für jede Kategorie eine eigene Spalte, die entweder <code>True</code> oder <code> False</code> ist, je nachdem, ob die Kategorie zutrifft oder nicht. Das selbe wird für die Spalte <code>smoking_history</code> gemacht. Im weiteren werden numerische Werte geprüft und gegebenenfalls bereinigt. Das Bedeutet zum Beispiel, dass negative werte bei <code>bmi</code> oder >code>age</code> entfernt werden. Aber auch werte die unrealistisch sind, wie z.B. ein BMI von 100 oder ein Alter von 200 Jahren. Abschließend werden die Daten in Trainings- und Testdaten aufgeteilt.\n"
   ],
   "id": "aba1412a47dec339"
  },
  {
   "metadata": {},
   "cell_type": "code",
   "source": [
    "# Datensatz einlesen\n",
    "df = pd.read_csv('diabetes_prediction_dataset.csv')\n",
    "allItems = len(df)\n",
    "# Fehlende Werte behandeln (z.B. mit Mittelwert/Modus auffüllen)\n",
    "df.fillna(df.median(numeric_only=True), inplace=True)\n",
    "df.fillna(df.mode().iloc[0], inplace=True)\n",
    "\n",
    "# Unrealistische Werte entfernen\n",
    "df = df[(df['age'] > 0) & (df['age'] < 120)]\n",
    "df = df[(df['bmi'] > 10) & (df['bmi'] < 70)]\n",
    "\n",
    "# Nur die gewünschten Features auswählen\n",
    "features = ['HbA1c_level', 'blood_glucose_level', 'bmi']\n",
    "X = df[features]\n",
    "y = df['diabetes']\n",
    "\n",
    "# Skalierung der numerischen Merkmale\n",
    "scaler = StandardScaler()\n",
    "X_scaled = scaler.fit_transform(X)\n",
    "\n",
    "# Aufteilen in Trainings- und Testdaten\n",
    "X_train, X_test, y_train, y_test = train_test_split(X, y, test_size=0.2, random_state=42)"
   ],
   "id": "e1696529fda14205",
   "outputs": [],
   "execution_count": null
  },
  {
   "metadata": {},
   "cell_type": "markdown",
   "source": "Die Vorbereitete und Bereinigte Datensatz sieht nun so als Tabelle aus:",
   "id": "b252274a33e7d6b"
  },
  {
   "metadata": {},
   "cell_type": "code",
   "source": [
    "import pandas as pd\n",
    "\n",
    "# Nur die gewünschten Features ausgeben\n",
    "print(df[['diabetes','HbA1c_level', 'blood_glucose_level', 'bmi']].head())\n",
    "#Zeigt die ersten 5 Zeilen des bereinigten Datensatzes"
   ],
   "id": "317a2c57426227bf",
   "outputs": [],
   "execution_count": null
  },
  {
   "metadata": {},
   "cell_type": "code",
   "source": [
    "diabetes = (df['diabetes'] == 1).sum()\n",
    "noDiabetes = (df['diabetes'] == 0).sum()\n",
    "print(\"Anzahl aller Einträge in dem Datensatz: \" , allItems)\n",
    "print(\"Anzahl der Einträge nach bereinigung: \" , diabetes+noDiabetes)\n",
    "print(\"Anzahl Diabetes:\", diabetes)\n",
    "print(\"Anzahl kein Diabetes:\", noDiabetes)"
   ],
   "id": "d98ed4ecfa6d04dc",
   "outputs": [],
   "execution_count": null
  },
  {
   "metadata": {},
   "cell_type": "markdown",
   "source": "Nach der Bereinigung sind es noch 99981 Einträge. Davon haben 8494 Personen Diabetes und 91487 Personen haben kein Diabetes. Das sind ca. 8.5% der Personen im Datensatz, die Diabetes haben. Zudem gibt es vier Spalten. Die Spalte <code>HbA1c_level</code> gibt den HbA1c-Wert an, der den durchschnittlichen Blutzuckerspiegel der letzten 2-3 Monate widerspiegelt. Die Spalte <code>blood_glucose_level</code> gibt den aktuellen Blutzuckerspiegel an, der in mg/dL gemessen wird. Die Spalte <code>bmi</code> gibt den Body-Mass-Index an, der das Verhältnis von Gewicht zu Körpergröße ist und als Indikator für Übergewicht oder Untergewicht verwendet wird. Die Zielvariable <code›diabetes‹/code> gibt an, ob eine Person Diabetes hat (1) oder nicht (0). Es sind nur diese Spalten, da diese Werte am ausschlaggebenden sind, ob zu ermitteln ob eine Person DDiabetes hat oder nicht. Es werden auch nur wenige Feature verwendet, um die Modelle nicht zu überladen und die Ergebnisse besser vergleichen zu können.",
   "id": "d74ec1b0228fc878"
  },
  {
   "metadata": {},
   "cell_type": "markdown",
   "source": [
    "## 3. Methodik\n",
    "   In diesem Abschnitt werden die ausgewählten Klassifikationsalgorithmen beschrieben, die für die Vorhersage von Diabetes verwendet werden. Dazu gehören die logistische Regression, Support Vector Machines (SVM) und k-Nearest Neighbors (KNN). Für jeden Algorithmus wird die Funktionsweise erläutert und die Implementierung in Python mit der Bibliothek Scikit-Learn beschrieben. Zu erst werden alle Algorithmen trainiert und erst danach werden sie mit Metriken wie Accuracy, Precision, Recall, F1-Score und ROC-Kurve verglichen."
   ],
   "id": "1c4c07d30dc5a755"
  },
  {
   "metadata": {},
   "cell_type": "markdown",
   "source": [
    "### 3.1 Logistische Regression\n",
    "   Die logistische Regression ist ein statistisches Modell, das verwendet wird, um die Wahrscheinlichkeit eines binären Ergebnisses vorherzusagen. In diesem Fall wird sie verwendet, um die Wahrscheinlichkeit vorherzusagen, ob eine Person Diabetes hat (1) oder nicht (0). Die logistische Regression modelliert die Beziehung zwischen den unabhängigen Variablen (Features) und der abhängigen Variable (Zielvariable) durch eine logistische Funktion. Die logistische Funktion gibt Werte zwischen 0 und 1 zurück, die als Wahrscheinlichkeiten interpretiert werden können. Die logistische Regression wird in Python mit der Bibliothek Scikit-Learn implementiert. Der folgende Code zeigt, wie die logistische Regression auf den vorbereiteten Datensatz angewendet wird:\n",
    "\n"
   ],
   "id": "485618c19fa2c625"
  },
  {
   "metadata": {},
   "cell_type": "code",
   "source": [
    "# Modell erstellen und trainieren\n",
    "logreg = LogisticRegression(random_state=42)\n",
    "logreg.fit(X_train, y_train)"
   ],
   "id": "1402b65a889affbd",
   "outputs": [],
   "execution_count": null
  },
  {
   "metadata": {},
   "cell_type": "markdown",
   "source": "Was macht der Code hier? Zuerst wird ein LogisticRegression-Objekt mit maximal 90000 Iterationen un einem festen Zufallswert (random_state = 42) erstellt. Der random_state sorgt dafür, dass die Ergebnisse reproduzierbar sind. Da die Zielvariable binär ist also 0 oder 1, ist die logistische Regression ein geeigneter Algorithmus. Nach dem Erstellen des Modells wird es mit den Trainingsdaten trainiert. Dies macht die funktion <cod>fit()</code>. Der nächste Schritt nach dem Trainieren, die eine Vorhersage auf den Testdaten zu machen, diese wird mit der Funktion <code>predict()</code> gemacht. Man macht diese Vorhersage, um das trainierte Modell zu testen, um zu sehen, wie gut es trainiert wurde. Abschließend wird die Genauigkeit der Vorhersagen mit der Funktion <code>accuracy_score()</code> berechnet und ausgegeben. Die Genauigkeit gibt an, wie viele der Vorhersagen korrekt waren.",
   "id": "5855a9f04c50ec35"
  },
  {
   "metadata": {},
   "cell_type": "markdown",
   "source": [
    "### 3.2 Support Vector Machines (SVM)\n",
    "   Das nächste Modell, das untersucht wird, sind die Suport Vector Machines (SVM). SVMs sind überwachte Lernmodelle, die für Klassikifikations- und Regressionsaufgaben verwendet werden. Das Hauptziel von SVMs ist es, eine optimale Trennlinie zu finden. Eine SVM Grafik sieht so aus:\n",
    "\n",
    "---\n",
    "<div style=\"text-align:center;\">\n",
    "  <img src=\"image/3-1_svm_optimal-hyperplane_max-margin_support-vectors-2-1.png\" alt=\"Grafik SVM\" style=\"max-height:350px;\" />\n",
    "  <div>\n",
    "<a>Quelle: https://www.ibm.com/content/dam/connectedassets-adobe-cms/worldwide-content/creative-assets/s-migr/ul/g/8f/27/3-1_svm_optimal-hyperplane_max-margin_support-vectors-2-1.png</a></div>\n",
    "</div>\n",
    "\n",
    "---\n",
    "   Support Vector Machines versuchen, eine Trennlinie zufinden, die die Datenpunkte verschiedener Klassen zu trennen. Diese Trennlinie wird als Hyperplane bezeichnet. Das Ziel ist es, den Abstand (Margin) zwischen dem Hyperplane und den nächst gelgenden Datenpunkten zu maximieren. Die Datenpunkte, die am nächsten an der Hyperplane liegen, werden als Support Vector bezteichnet. Ein Vorteil von SVMs ist es, dass sie auch mit nicht-linear separierbaren Daten umgehen können. In diesem Datensatz wird nur eine lineare SVM verwendet, da die Daten gut trennbar sind. Die Linie der Hyperplane wird zwischen der Diabetes und Nicht-Diabetes gezogen."
   ],
   "id": "fcf84f3a90f5106b"
  },
  {
   "metadata": {},
   "cell_type": "code",
   "source": [
    "# ACHTUNG: Kann etwas länger dauern!\n",
    "svm = SVC(kernel='linear', random_state=42)\n",
    "svm.fit(X_train, y_train)"
   ],
   "id": "b44dc6e23512fd4a",
   "outputs": [],
   "execution_count": null
  },
  {
   "metadata": {},
   "cell_type": "code",
   "source": [
    "%matplotlib notebook\n",
    "# Koordinaten für die Ebene berechnen\n",
    "w = svm.coef_[0]  # Koeffizienten des SVM-Modells\n",
    "b = svm.intercept_[0]  # Intercept des SVM-Modells\n",
    "# Nur die ersten 50 Testdaten verwenden\n",
    "n = min(50000, len(X_test)) # Anzahl der Punkte für die Visualisierung\n",
    "indices = np.random.choice(len(X_test), n, replace=False)  # Zufällige Auswahl von Indizes\n",
    "X_plot = X_test.iloc[indices]  # Teilmenge der Testdaten\n",
    "y_plot = y_test.iloc[indices]  # Entsprechende Zielwerte\n",
    "# Erstelle ein Gitter für die Ebene\n",
    "x = np.linspace(X_plot.iloc[:, 0].min(), X_plot.iloc[:, 0].max(), 10)\n",
    "y = np.linspace(X_plot.iloc[:, 1].min(), X_plot.iloc[:, 1].max(), 10)\n",
    "X, Y = np.meshgrid(x, y)\n",
    "Z = (-w[0] * X - w[1] * Y - b) / w[2]  # Z-Werte der Ebene berechnen\n",
    "\n",
    "# 3D-Scatter-Plot erstellen\n",
    "fig = plt.figure(figsize=(8, 6))\n",
    "ax = fig.add_subplot(111, projection='3d')\n",
    "\n",
    "# Datenpunkte plotten\n",
    "scatter = ax.scatter(X_plot.iloc[:, 0], X_plot.iloc[:, 1], X_plot.iloc[:, 2], c=y_plot, cmap='coolwarm', alpha=0.7)\n",
    "\n",
    "# Trennebene plotten\n",
    "ax.plot_surface(X, Y, Z, color='green', alpha=0.3)\n",
    "\n",
    "# Achsenbeschriftungen\n",
    "ax.set_xlabel('HbA1c_level')\n",
    "ax.set_ylabel('blood_glucose_level')\n",
    "ax.set_zlabel('bmi')\n",
    "ax.view_init(elev=30, azim=45)\n",
    "# Titel und Anzeige\n",
    "plt.title('SVM Vorhersagen mit Trennebene')\n",
    "plt.legend()\n",
    "plt.show()"
   ],
   "id": "ee30b8706f84c983",
   "outputs": [],
   "execution_count": null
  },
  {
   "metadata": {},
   "cell_type": "markdown",
   "source": [
    "### 3.3 k-Nearest Neighbors (KNN)\n",
    "   Der letzte Algorithmus, der in dieser Arbeit untersucht wird, ist der k-Nearest Neighbors (KNN) Algorithmus. KNN ist ein einfacher, aber effektiver Klassifikationsalgorithmus, der auf dem Konzept der Ähnlichkeit basiert. Der KNN-Algorithmus funktioniert, indem er die k nächsten Nachbarn eines neuen Datenpunkts in den Trainingsdaten findet und die Klasse des neuen Datenpunkts basierend auf der Mehrheit der Klassen dieser Nachbarn vorhersagt. Der Wert von k ist ein Hyperparameter, der vom Benutzer festgelegt wird und die Anzahl der Nachbarn angibt, die berücksichtigt werden sollen. In diesem Fall wird k auf 5 gesetzt, was bedeutet, dass die 5 nächsten Nachbarn verwendet werden, um die Klasse des neuen Datenpunkts vorherzusagen."
   ],
   "id": "2845b0315318050"
  },
  {
   "metadata": {},
   "cell_type": "markdown",
   "source": [
    "---\n",
    "\n",
    "<!--<div style=\"text-align:center;\">\n",
    "  <img src=\"image/KNN.png\" alt=\"KNN\" style=\"max-height:350px;\" />\n",
    "  <div>Quelle: https://www.ibm.com/content/dam/connectedassets-adobe-cms/worldwide-content/cdp/cf/ul/g/ef/3a/KNN.png</div>\n",
    "</div>-->\n",
    "\n",
    "<div style=\"text-align:center;\">\n",
    "  <img src=\"image/knn-kaggle.png\" alt=\"KNN\" style=\"max-height:350px;\" />\n",
    "  <a>Quelle: https://th.bing.com/th/id/R.5680ba7394c320efaa16adfe9b5a1cf2?rik=6y4BP3dnfrmuvA&riu=http%3a%2f%2fwww.datasciencelovers.com%2fwp-content%2fuploads%2f2020%2f03%2fk-nearest-neighbor2.png&ehk=VprLSRTXghhpziYSxSXqAkCDmoZSLarGS26xo9F2GmY%3d&risl=&pid=ImgRaw&r=0</a>\n",
    "</div>\n",
    "\n",
    "---"
   ],
   "id": "f49e6f0cdd57b854"
  },
  {
   "metadata": {},
   "cell_type": "markdown",
   "source": [
    "Wie in der Abbildung dargestellt gibt es zwei Klassen oder auch Kategorien. In diese Arbeit wäre zum Beispiel Category A Personen mit Diabetes und Category B Personen ohnen Diabetes. Diese zwei Gruppen befinden sich als Beispiel in einem Raum. Eine neue Person betritt den Raum und soll sich einmal ein Ordnen. Der blauen Punkt im linken Bild stellt die neue Person dar. Der KNN-Algorithmus sucht nun die k nächsten Nachbarn dieser neuen Person. In diesem Fall sind es 5 Nachbarn (k=5), die gesucht werden. Die Nachbarn sind die nächsten zu dieser Person, in diesem Fall sind es 3 Personen aus Category A und 2 aus der Category B. Da die Mehrheit der Nachbarn aus Category A kommt, wird die neue Person ebenfalls in Category A eingeordnert.\n",
    "Für den KNN-Algorithmus wird die Implementierung aus der Sklearn Bibliothek verwendet."
   ],
   "id": "784998568bfed86b"
  },
  {
   "metadata": {},
   "cell_type": "code",
   "source": [
    "from sklearn.neighbors import KNeighborsClassifier\n",
    "# KNN-Modell erstellen und trainieren\n",
    "knn = KNeighborsClassifier(n_neighbors=5)\n",
    "knn.fit(X_train, y_train)"
   ],
   "id": "c46782339b8c2789",
   "outputs": [],
   "execution_count": null
  },
  {
   "metadata": {},
   "cell_type": "code",
   "source": [
    "\n",
    "n = min(50000, len(X_test))\n",
    "indices = np.random.choice(len(X_test), n, replace=False)\n",
    "X_plot = X_test.iloc[indices]\n",
    "y_plot = y_pred_knn[indices]\n",
    "X_plot = X_test[:n]\n",
    "y_plot = y_pred_knn[:n]\n",
    "\n",
    "fig = plt.figure(figsize=(8, 6))\n",
    "ax = fig.add_subplot(111, projection='3d')\n",
    "\n",
    "ax.scatter(X_plot.iloc[:, 0], X_plot.iloc[:, 1], X_plot.iloc[:, 2], c=y_plot, cmap='coolwarm', alpha=0.7)\n",
    "ax.set_xlabel('HbA1c_level')\n",
    "ax.set_ylabel('blood_glucose_level')\n",
    "ax.set_zlabel('bmi')\n",
    "plt.title('KNN Vorhersagen (3D-Scatter)')\n",
    "plt.show()"
   ],
   "id": "9632b9d4a4943592",
   "outputs": [],
   "execution_count": null
  },
  {
   "metadata": {},
   "cell_type": "markdown",
   "source": "Zu sehen ist ein 3D-Scatter-Plot der KNN-Vorhersagen. Das Diagramm ähnelt dem SVM-Diagramm, jedoch ohne die Trennebene. Das liegt daran, dass beide Modelle mit denselben Daten trainiert worden sind. Die Punkte sind entsprechend ihrer vorhergesagten Klasse eingefärbt, wobei verschiedene Farben unterschiedliche Klassen repräsentieren. Blau ist in diesem Fall für einen Datenpunkt ohne Diabetes. Rot steht für einen Datenpunkt, welcher Diabetes kennzeichnet.  Die Achsen des Diagramms entsprechen den drei Merkmalen: HbA1c_level, blood_glucose_level und bmi. Der Plot bietet eine visuelle Darstellung der Verteilung der Datenpunkte im dreidimensionalen Raum basierend auf den ausgewählten Merkmalen und zeigt, wie der KNN-Algorithmus die Daten klassifiziert hat.",
   "id": "2ea4107a9d8a97f4"
  },
  {
   "metadata": {},
   "cell_type": "markdown",
   "source": [
    "### 3.5 Vergleich der Modelle\n",
    "   Nachdem alle drei Modelle trainiert worden sind und zur Veranschauung geplottet worden sind, behandelt der nächste Abschnitt einige Vergleiche der Modelle mit verschiedenen Metriken wie Accuracy, Precision, Recall, F1-Score und ROC-Kurve.\n",
    "\n",
    "#### 3.5.1 Accuracy\n",
    "   Accuracy ist eine Metrik, die angibt, wie viele der Vorhersagen korrekt waren. Sie wird berechnet, indem die Anzahl der korrekten Vorhersagen durch die Gesamtanzahl der Vorhersagen geteilt wird. Eine hohe Genauigkeit bedeutet, dass das Modell gut darin ist, die Zielvariable vorherzusagen. Hierzu werden die drei trainierten Modelle mit Testdaten getestet und die Genauigkeit berechnet."
   ],
   "id": "340194032993db5f"
  },
  {
   "metadata": {},
   "cell_type": "code",
   "source": [
    "# Logistische Regression\n",
    "y_pred = logreg.predict(X_test)\n",
    "accuracy = accuracy_score(y_test, y_pred)\n",
    "print(f'Genauigkeit der logistischen Regression:    {accuracy:.4f}')\n",
    "\n",
    "# SVM\n",
    "y_pred_svm = svm.predict(X_test)\n",
    "accuracy_svm = accuracy_score(y_test, y_pred_svm)\n",
    "print(f'Genauigkeit der SVM:                        {accuracy_svm:.4f}')\n",
    "\n",
    "# KNN\n",
    "y_pred_knn = knn.predict(X_test)\n",
    "accuracy_knn = accuracy_score(y_test, y_pred_knn)\n",
    "print(f'Genauigkeit des KNN:                        {accuracy_knn:.4f}')"
   ],
   "id": "23d8ef95f5ced8a3",
   "outputs": [],
   "execution_count": null
  },
  {
   "metadata": {},
   "cell_type": "markdown",
   "source": [
    "Das Ergebnis der Vorhersagen zeigt, dass es einen kleinen Unterschied zwischen logistischer Regression und SVM gibt. Wobei die logistische Regression dennoch leicht besser abschneidet. Der KNN-Algorithmus schneidet als bestes Modell in diesem Vergleich ab. Das bedeutet, dass mit dem KNN-Algortihmus bis zu diesem Zeitpunkt als besteres Modell für die Vorhersage von Diabetes angesehen werden kann. Aber es werden weiter Metriken untersucht, um eine bessere Aussage treffen zu können.\n",
    "\n",
    "#### 3.5.2 Precision\n",
    "   Precision ist eine Metrik, die angibt, wie viele der als positiv vorhergesagten Fälle tatsächlich positiv sind. Sie wird berechnet, indem die Anzahl der True Positives (TP) durch die Summe aus True Positives und False Positives (FP) geteilt wird.\n",
    "   Bei dieser Metrik ist es wichtig, dass sie hoch ist, da eine niedrige Präzision bedeutet, dass viele der als positiv vorhergesagten Fälle tatsächlich negativ sind. Dies kann zu unnötigen Behandlungen oder Tests führen. Hierzu wird die Precision für alle drei Modelle berechnet."
   ],
   "id": "dda329a2c232d68e"
  },
  {
   "metadata": {},
   "cell_type": "code",
   "source": [
    "# Precision für logreg\n",
    "y_pred_logreg = logreg.predict(X_test)\n",
    "precision_logreg = precision_score(y_test, y_pred_logreg)\n",
    "print(f'Precision der logistischen Regression: {precision_logreg:.4f}')\n",
    "\n",
    "# Precision für SVM\n",
    "y_pred_svm = svm.predict(X_test)\n",
    "precision_svm = precision_score(y_test, y_pred_svm)\n",
    "print(f'Precision der SVM: {precision_svm:.4f}')\n",
    "\n",
    "# Precision für KNN\n",
    "y_pred_knn = knn.predict(X_test)\n",
    "precision_knn = precision_score(y_test, y_pred_knn)\n",
    "print(f'Precision des KNN: {precision_knn:.4f}')\n",
    "import matplotlib.pyplot as plt\n",
    "\n",
    "# Precision-Werte\n",
    "models = ['Logistische Regression', 'SVM', 'KNN']\n",
    "precision_values = [precision_logreg, precision_svm, precision_knn]\n",
    "\n",
    "# Balkendiagramm erstellen\n",
    "plt.figure(figsize=(8, 6))\n",
    "plt.bar(models, precision_values, color=['blue', 'green', 'orange'])\n",
    "plt.xlabel('Modelle')\n",
    "plt.ylabel('Precision')\n",
    "plt.title('Precision-Vergleich der Modelle')\n",
    "plt.ylim(0, 1)  # Wertebereich für Precision\n",
    "plt.show()"
   ],
   "id": "ad3b768f225ed165",
   "outputs": [],
   "execution_count": null
  },
  {
   "metadata": {},
   "cell_type": "markdown",
   "source": [
    "### 3.5.3\n",
    "### 3.5.4 F1-Scroe\n"
   ],
   "id": "d7e25e524392621d"
  },
  {
   "metadata": {},
   "cell_type": "markdown",
   "source": [
    "## Quelle\n",
    "[09.08.2025] https://www.kaggle.com/datasets/iammustafatz/diabetes-prediction-dataset <br>\n",
    "[24.08.2025] https://www.ibm.com/de-de/think/topics/support-vector-machine <br>\n",
    "[28.08.2025] https://developers.google.com/machine-learning/crash-course/logistic-regression?hl=de\n",
    "[29.08.2025] https://scikit-learn.org/stable/modules/generated/sklearn.metrics.f1_score.html"
   ],
   "id": "a3e3b380343e04ad"
  }
 ],
 "metadata": {
  "kernelspec": {
   "display_name": "Python 3",
   "language": "python",
   "name": "python3"
  },
  "language_info": {
   "codemirror_mode": {
    "name": "ipython",
    "version": 3
   },
   "file_extension": ".py",
   "mimetype": "text/x-python",
   "name": "python",
   "nbconvert_exporter": "python",
   "pygments_lexer": "ipython3",
   "version": "3.9.6"
  }
 },
 "nbformat": 4,
 "nbformat_minor": 5
}
